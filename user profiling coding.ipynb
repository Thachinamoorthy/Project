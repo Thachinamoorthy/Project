{
  "nbformat": 4,
  "nbformat_minor": 0,
  "metadata": {
    "colab": {
      "provenance": []
    },
    "kernelspec": {
      "name": "python3",
      "display_name": "Python 3"
    },
    "language_info": {
      "name": "python"
    }
  },
  "cells": [
    {
      "cell_type": "code",
      "execution_count": 2,
      "metadata": {
        "colab": {
          "base_uri": "https://localhost:8080/"
        },
        "id": "crmEhavNzNb2",
        "outputId": "aa51d60c-0b5b-4c70-90e5-ca748f053e83"
      },
      "outputs": [
        {
          "output_type": "stream",
          "name": "stdout",
          "text": [
            "Cluster Assignments:\n",
            "User_1: Cluster 1\n",
            "User_2: Cluster 2\n",
            "User_3: Cluster 3\n",
            "User_4: Cluster 3\n",
            "User_5: Cluster 1\n",
            "User_6: Cluster 3\n",
            "User_7: Cluster 1\n",
            "User_8: Cluster 1\n",
            "User_9: Cluster 2\n",
            "User_10: Cluster 1\n"
          ]
        },
        {
          "output_type": "stream",
          "name": "stderr",
          "text": [
            "/usr/local/lib/python3.10/dist-packages/sklearn/cluster/_kmeans.py:870: FutureWarning: The default value of `n_init` will change from 10 to 'auto' in 1.4. Set the value of `n_init` explicitly to suppress the warning\n",
            "  warnings.warn(\n"
          ]
        }
      ],
      "source": [
        "import numpy as np\n",
        "from sklearn.cluster import KMeans\n",
        "\n",
        "class UserProfile:\n",
        "    def __init__(self, username, preferences):\n",
        "        self.username = username\n",
        "        self.preferences = preferences\n",
        "\n",
        "def generate_user_profiles(num_users):\n",
        "    user_profiles = []\n",
        "    for i in range(num_users):\n",
        "        username = f\"User_{i+1}\"\n",
        "\n",
        "        preferences = np.random.randint(1, 11, size=3)\n",
        "        user_profiles.append(UserProfile(username, preferences))\n",
        "    return user_profiles\n",
        "\n",
        "def kmeans_clustering(user_profiles, num_clusters):\n",
        "    preferences_array = np.array([profile.preferences for profile in user_profiles])\n",
        "    kmeans = KMeans(n_clusters=num_clusters, random_state=42)\n",
        "    kmeans.fit(preferences_array)\n",
        "    cluster_labels = kmeans.labels_\n",
        "    return cluster_labels\n",
        "\n",
        "def main():\n",
        "\n",
        "    num_users = 10\n",
        "    user_profiles = generate_user_profiles(num_users)\n",
        "\n",
        "\n",
        "    num_clusters = 3\n",
        "    cluster_labels = kmeans_clustering(user_profiles, num_clusters)\n",
        "\n",
        "\n",
        "    print(\"Cluster Assignments:\")\n",
        "    for i, profile in enumerate(user_profiles):\n",
        "        print(f\"{profile.username}: Cluster {cluster_labels[i] + 1}\")\n",
        "\n",
        "if __name__ == \"__main__\":\n",
        "    main()\n"
      ]
    }
  ]
}